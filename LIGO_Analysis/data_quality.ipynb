{
 "cells": [
  {
   "cell_type": "code",
   "execution_count": 2,
   "metadata": {
    "collapsed": false
   },
   "outputs": [
    {
     "name": "stdout",
     "output_type": "stream",
     "text": [
      "0 b'DATA'\n",
      "1 b'CBCHIGH_CAT1'\n",
      "2 b'CBCHIGH_CAT2'\n",
      "3 b'CBCHIGH_CAT3'\n",
      "4 b'CBCHIGH_CAT4'\n",
      "5 b'CBCLOW_CAT1'\n",
      "6 b'CBCLOW_CAT2'\n",
      "7 b'CBCLOW_CAT3'\n",
      "8 b'CBCLOW_CAT4'\n",
      "9 b'BURST_CAT1'\n",
      "10 b'BURST_CAT2'\n",
      "11 b'BURST_CAT3'\n",
      "12 b'BURST_CAT2E'\n",
      "13 b'BURST_CAT3E'\n",
      "14 b'CW_CAT1'\n",
      "15 b'STOCH_CAT1'\n",
      "16 b'STOCH_CAT2_H1L1'\n",
      "17 b'STOCH_CAT2_H2L1'\n"
     ]
    },
    {
     "data": {
      "image/png": "[encoded data removed]",
      "text/plain": [
       "<matplotlib.figure.Figure at 0x103d85898>"
      ]
     },
     "metadata": {},
     "output_type": "display_data"
    }
   ],
   "source": [
    "%matplotlib inline\n",
    "import numpy as np\n",
    "import matplotlib.pyplot as plt\n",
    "import h5py\n",
    "\n",
    "fileName = '/Users/babburi/Documents/Classroom/DataScience/LIGO_datasets/H-H1_LOSC_4_V1-815411200-4096.hdf5'\n",
    "dataFile = h5py.File(fileName, 'r')\n",
    "gpsStart = dataFile['meta']['GPSstart'].value\n",
    "\n",
    "dqInfo = dataFile['quality']['simple']\n",
    "bitnameList = dqInfo['DQShortnames'].value\n",
    "nbits = len(bitnameList)\n",
    "\n",
    "for bit in range(nbits):\n",
    "    print (bit, bitnameList[bit])\n",
    "\n",
    "qmask = dqInfo['DQmask'].value  #a vector of bitmasked integers representing data quality on all 18 channels\n",
    "sci = (qmask >> 0) & 1   # a boolean vector representing the data quality in the first channel\n",
    "burst1 = (qmask >> 9) & 1  # a boolean vector representing the data quality in the ninth channel\n",
    "goodData_1hz = sci & burst1  # a boolean vector representing data quality for both first and ninth channels\n",
    "\n",
    "plt.plot(goodData_1hz + 4, label='Good_Data')\n",
    "plt.plot(burst1 + 2, label='BURST_CAT1')\n",
    "plt.plot(sci, label='DATA')\n",
    "plt.axis([0, 4096, -1, 8])\n",
    "plt.legend(loc=1)\n",
    "plt.xlabel('Time (s)')\n",
    "\n",
    "# ignore periods of bad data by taking slices\n",
    "dummy = np.zeros(goodData_1hz.shape)\n",
    "masked_dummy = np.ma.masked_array(dummy, np.logical_not(goodData_1hz))\n",
    "segments = np.ma.flatnotmasked_contiguous(masked_dummy)\n",
    "segList = [(int(seg.start + gpsStart), int(seg.stop + gpsStart)) for seg in segments]"
   ]
  },
  {
   "cell_type": "code",
   "execution_count": 15,
   "metadata": {
    "collapsed": false
   },
   "outputs": [
    {
     "data": {
      "text/plain": [
       "array([False, False, False, ...,  True,  True,  True], dtype=bool)"
      ]
     },
     "execution_count": 15,
     "metadata": {},
     "output_type": "execute_result"
    }
   ],
   "source": [
    "np.logical_not(goodData_1hz)"
   ]
  },
  {
   "cell_type": "code",
   "execution_count": 42,
   "metadata": {
    "collapsed": false
   },
   "outputs": [],
   "source": [
    "masked_dummy = np.ma.masked_array([0, 0, 0], [False, True, False])"
   ]
  },
  {
   "cell_type": "code",
   "execution_count": 48,
   "metadata": {
    "collapsed": false
   },
   "outputs": [
    {
     "data": {
      "text/plain": [
       "[slice(0, 1, None), slice(2, 3, None)]"
      ]
     },
     "execution_count": 48,
     "metadata": {},
     "output_type": "execute_result"
    }
   ],
   "source": [
    "np.ma.flatnotmasked_contiguous(masked_dummy)"
   ]
  },
  {
   "cell_type": "code",
   "execution_count": 49,
   "metadata": {
    "collapsed": false
   },
   "outputs": [
    {
     "name": "stdout",
     "output_type": "stream",
     "text": [
      "1\n",
      "3\n"
     ]
    }
   ],
   "source": [
    "for s in sgm:\n",
    "    print(s.stop)"
   ]
  },
  {
   "cell_type": "code",
   "execution_count": null,
   "metadata": {
    "collapsed": true
   },
   "outputs": [],
   "source": []
  }
 ],
 "metadata": {
  "anaconda-cloud": {},
  "kernelspec": {
   "display_name": "Python [Root]",
   "language": "python",
   "name": "Python [Root]"
  },
  "language_info": {
   "codemirror_mode": {
    "name": "ipython",
    "version": 3
   },
   "file_extension": ".py",
   "mimetype": "text/x-python",
   "name": "python",
   "nbconvert_exporter": "python",
   "pygments_lexer": "ipython3",
   "version": "3.5.2"
  }
 },
 "nbformat": 4,
 "nbformat_minor": 0
}
