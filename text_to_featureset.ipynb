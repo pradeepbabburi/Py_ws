{
 "cells": [
  {
   "cell_type": "code",
   "execution_count": 7,
   "metadata": {
    "collapsed": false
   },
   "outputs": [
    {
     "name": "stdout",
     "output_type": "stream",
     "text": [
      "Featureset length  423\n"
     ]
    }
   ],
   "source": [
    "# create sentiment featuresets\n",
    "\n",
    "import nltk\n",
    "from nltk.tokenize import word_tokenize\n",
    "import numpy as np\n",
    "import random\n",
    "import pickle\n",
    "from collections import Counter\n",
    "from nltk.stem import WordNetLemmatizer\n",
    "\n",
    "lemmatizer = WordNetLemmatizer()\n",
    "hm_lines = 100000\n",
    "\n",
    "def create_lexicon(text1, text2):\n",
    "    lex = []\n",
    "    with open(text1,'r') as f:\n",
    "        contents = f.readlines()\n",
    "        for l in contents[:hm_lines]:\n",
    "            all_words = word_tokenize(l)\n",
    "            lex += list(all_words)\n",
    "    \n",
    "    with open(text2,'r') as f:\n",
    "        contents = f.readlines()\n",
    "        for l in contents[:hm_lines]:\n",
    "            all_words = word_tokenize(l)\n",
    "            lex += list(all_words)\n",
    "    \n",
    "    lex = [lemmatizer.lemmatize(i) for i in lex]\n",
    "    w_counts = Counter(lex)\n",
    "    lexicon = []\n",
    "    \n",
    "    for w in w_counts:\n",
    "        if 1000 > w_counts[w] > 50:\n",
    "            lexicon.append(w)\n",
    "    \n",
    "    print('Featureset length ', len(lexicon))\n",
    "    return lexicon\n",
    "\n",
    "def sample_handling(sample, lexicon, classification):\n",
    "    featureset = []\n",
    "    with open(sample, 'r') as f:\n",
    "        contents = f.readlines()\n",
    "        for l in contents[:hm_lines]:\n",
    "            current_words = word_tokenize(l.lower())\n",
    "            current_words = [lemmatizer.lemmatize(i) for i in current_words]\n",
    "            features = np.zeros(len(lexicon))\n",
    "            for word in current_words:\n",
    "                if word in lexicon:\n",
    "                    index_val = lexicon.index(word)\n",
    "                    features[index_val] += 1\n",
    "            \n",
    "            features = list(features)\n",
    "            featureset.append([features, classification])\n",
    "    return featureset\n",
    "\n",
    "def create_feature_sets_and_labels(pos, neg, test_size = 0.1):\n",
    "    lexicon = create_lexicon(pos, neg)\n",
    "    features = []\n",
    "    features += sample_handling(pos, lexicon, [1,0])\n",
    "    features += sample_handling(neg, lexicon, [0,1])\n",
    "    random.shuffle(features)\n",
    "    features = np.array(features)\n",
    "    \n",
    "    testing_size = int(test_size * len(features))\n",
    "    \n",
    "    train_x = list(features[:,0][:-testing_size])\n",
    "    train_y = list(features[:,1][:-testing_size])\n",
    "    test_x = list(features[:,0][-testing_size:])\n",
    "    test_y = list(features[:, 1][-testing_size:])\n",
    "    \n",
    "    return train_x, train_y, test_x, test_y\n",
    "\n",
    "if __name__ == '__main__':\n",
    "    train_x, train_y, test_x, test_y = create_feature_sets_and_labels('data/pos.txt', 'data/neg.txt')\n",
    "    # to picke this data\n",
    "    # with open('data/sentiment_featureset.pickle', 'wb') as f:\n",
    "     #   pickle.dump([train_x, train_y, test_x, test_y], f)"
   ]
  },
  {
   "cell_type": "code",
   "execution_count": null,
   "metadata": {
    "collapsed": true
   },
   "outputs": [],
   "source": []
  }
 ],
 "metadata": {
  "anaconda-cloud": {},
  "kernelspec": {
   "display_name": "Python [Root]",
   "language": "python",
   "name": "Python [Root]"
  },
  "language_info": {
   "codemirror_mode": {
    "name": "ipython",
    "version": 3
   },
   "file_extension": ".py",
   "mimetype": "text/x-python",
   "name": "python",
   "nbconvert_exporter": "python",
   "pygments_lexer": "ipython3",
   "version": "3.5.2"
  }
 },
 "nbformat": 4,
 "nbformat_minor": 0
}
